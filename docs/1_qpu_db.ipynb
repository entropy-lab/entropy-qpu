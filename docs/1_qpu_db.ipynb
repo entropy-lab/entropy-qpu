{
 "cells": [
  {
   "cell_type": "markdown",
   "metadata": {
    "pycharm": {
     "name": "#%% md\n"
    }
   },
   "source": [
    "# Tutorial: QPU Database\n",
    "\n",
    "**This tutorial requires version >=0.0.5 of the QPU DB**\n",
    "\n",
    "## Using the QPU DB\n",
    "\n",
    "The QPU database is a permanent store built for storing calibration data for Quantum Processing Units (QPU).\n",
    "\n",
    "It provides the following features and benefits:\n",
    "\n",
    "* Persistent storage of any python object related to QPU calibration info\n",
    "* Metadata on parameter calibration state and last modified time\n",
    "* Convenient addressing of quantum elements\n",
    "* Easy revert to previously stored parameters\n",
    "\n",
    "In this short tutorial we will learn how to use the QPU DB by looking at a simplified example of a QPU with two superconducting\n",
    "qubits, two readout resonators and a parametric coupling element.\n",
    "\n",
    "### Creating the database\n",
    "\n",
    "Below we can see a simple usage example. The DB is created by calling the `create_new_database` method.\n",
    "This method is similar to initializing a git repo in the sense that we only do it once. Here we initialize it\n",
    "with an initial dictionary which contains some basic attributes of our QPU. We'll be able to add more attributes,\n",
    "and also elements, later on. Once we call `create_new_qpu_database`, a set of database files will be created for us at\n",
    "the working directory of the python script.\n",
    "\n",
    "These files are the persistent storage of our DB. They can be saved to a different location by specifying\n",
    "the `path` argument to the function."
   ]
  },
  {
   "cell_type": "code",
   "execution_count": 1,
   "metadata": {
    "collapsed": false,
    "jupyter": {
     "outputs_hidden": false
    },
    "pycharm": {
     "name": "#%%\n"
    }
   },
   "outputs": [],
   "source": [
    "# %load_ext autoreload\n",
    "# %autoreload 2\n",
    "from entropylab_qpudb import create_new_qpu_database, CalState, QpuDatabaseConnection"
   ]
  },
  {
   "cell_type": "code",
   "execution_count": 2,
   "metadata": {
    "collapsed": false,
    "jupyter": {
     "outputs_hidden": false
    },
    "pycharm": {
     "name": "#%%\n"
    }
   },
   "outputs": [],
   "source": [
    "initial_dict = {\n",
    "    'q1': {\n",
    "        'f01': 5.65e9  # an initial guess for our transition frequency\n",
    "    },\n",
    "    'q2': {\n",
    "        'f01': 5.25e9\n",
    "    },\n",
    "    'res1': {\n",
    "        'f_r': 7.1e9\n",
    "    },\n",
    "    'res2': {\n",
    "        'f_r': 7.3e9\n",
    "    },\n",
    "    'c1_2': {\n",
    "        'f_r': 0.4e9\n",
    "    }\n",
    "}\n",
    "create_new_qpu_database('db1', initial_dict, force_create=True)"
   ]
  },
  {
   "cell_type": "markdown",
   "metadata": {
    "pycharm": {
     "name": "#%% md\n"
    }
   },
   "source": [
    "Notes:\n",
    "\n",
    "1. here we allow for the possibility of overwriting an existing database\n",
    "by passing the `force_create=True` flag. This option is useful when experimenting with the database creation, however in\n",
    "common usage it is recommended to remove this flag, since when it's false (by default), it will prevent overwriting an existing\n",
    "database and deleting all the data stored in it.\n",
    "\n",
    "2. (For experts): if you need to create a DB server, rather than create a filesystem storage, please let us know.\n",
    "The DB backend is currently\n",
    "the [ZODB](https://zodb.org/en/latest/) database, with plans to be replaced by\n",
    "[gitdb](https://github.com/gitpython-developers/gitdb).\n",
    "\n",
    "The keys of `initial_dict` are called the *elements* (and are similar in nature to QUA's quantum elements), and the\n",
    "values of these elements are subdictionaries of *attributes*. The values of the attributes can be anything you like,\n",
    "or more accurately, any python object that can be pickled. The different elements need not have the same attributes.\n",
    "\n",
    "### Connecting to the database and basic usage\n",
    "\n",
    "Now create a connection to our DB. The connection to the DB is our main \"workhorse\" - we create the DB once, and\n",
    "whenever we want to connect to it in order to retrieve or store data, we open a connection object. Note that currently\n",
    "only a single connection object per DB is allowed."
   ]
  },
  {
   "cell_type": "code",
   "execution_count": 3,
   "metadata": {
    "collapsed": false,
    "jupyter": {
     "outputs_hidden": false
    },
    "pycharm": {
     "name": "#%%\n"
    }
   },
   "outputs": [
    {
     "name": "stdout",
     "output_type": "stream",
     "text": [
      "opening qpu database db1 from commit <timestamp: 05/30/2021 06:24:19, message: initial commit> at index 0\n"
     ]
    }
   ],
   "source": [
    "db1 = QpuDatabaseConnection('db1')"
   ]
  },
  {
   "cell_type": "markdown",
   "metadata": {
    "pycharm": {
     "name": "#%% md\n"
    }
   },
   "source": [
    "and let's view the contents of our DB by calling `print`:"
   ]
  },
  {
   "cell_type": "code",
   "execution_count": 11,
   "metadata": {
    "collapsed": false,
    "jupyter": {
     "outputs_hidden": false
    },
    "pycharm": {
     "name": "#%%\n"
    }
   },
   "outputs": [
    {
     "name": "stdout",
     "output_type": "stream",
     "text": [
      "\n",
      "q1\n",
      "----\n",
      "f01:\tQpuParameter(value=5400000000.0, last updated: 05/30/2021 09:24:45, calibration state: COARSE)\n",
      "\n",
      "q2\n",
      "----\n",
      "f01:\tQpuParameter(value=5250000000.0, last updated: 05/30/2021 09:24:19, calibration state: UNCAL)\n",
      "\n",
      "res1\n",
      "----\n",
      "f_r:\tQpuParameter(value=7100000000.0, last updated: 05/30/2021 09:24:19, calibration state: UNCAL)\n",
      "\n",
      "res2\n",
      "----\n",
      "f_r:\tQpuParameter(value=7300000000.0, last updated: 05/30/2021 09:24:19, calibration state: UNCAL)\n",
      "\n",
      "c1_2\n",
      "----\n",
      "f_r:\tQpuParameter(value=400000000.0, last updated: 05/30/2021 09:24:19, calibration state: UNCAL)\n"
     ]
    }
   ],
   "source": [
    "db1.print()"
   ]
  },
  {
   "cell_type": "markdown",
   "metadata": {
    "pycharm": {
     "name": "#%% md\n"
    }
   },
   "source": [
    "Congratulations! You've just created your first QPU DB. As you can see when calling `print` the values we entered\n",
    "in `initial_dict` are now objects of type `QpuParameter`. These objects have 3 attributes:\n",
    "\n",
    "* `value`: the value you created initially and can be any python object\n",
    "* `last_updated`: the time when this parameter was last updated (see *committing* section to understand how to\n",
    "update). This parameter is handled by the DB itself.\n",
    "* `cal_state`: an enumerated metadata that can take the values `UNCAL`, `COARSE`, `MED` and `FINE`. This\n",
    "can be used by the user to communicate what is the calibration level of these parameters. They can be set and queried\n",
    "during the script execution, but are not used by the DB itself.\n",
    "\n",
    "### Modifying and using QPU parameters\n",
    "\n",
    "We can use and modify values and calibration states of QPU parameters in two different ways:\n",
    "\n",
    "#### Using `get` and `set`\n",
    "\n",
    "let's modify the value of `f01` and then get the actual value:"
   ]
  },
  {
   "cell_type": "code",
   "execution_count": 5,
   "metadata": {
    "collapsed": false,
    "jupyter": {
     "outputs_hidden": false
    },
    "pycharm": {
     "name": "#%%\n"
    }
   },
   "outputs": [
    {
     "data": {
      "text/plain": [
       "5330000000.0"
      ]
     },
     "execution_count": 5,
     "metadata": {},
     "output_type": "execute_result"
    }
   ],
   "source": [
    "db1.set('q1', 'f01', 5.33e9)\n",
    "db1.get('q1', 'f01').value"
   ]
  },
  {
   "cell_type": "markdown",
   "metadata": {
    "pycharm": {
     "name": "#%% md\n"
    }
   },
   "source": [
    "We can also modify the calibration state when setting:"
   ]
  },
  {
   "cell_type": "code",
   "execution_count": 6,
   "metadata": {
    "collapsed": false,
    "jupyter": {
     "outputs_hidden": false
    },
    "pycharm": {
     "name": "#%%\n"
    }
   },
   "outputs": [],
   "source": [
    "db1.set('q1', 'f01', 5.36e9, CalState.COARSE)"
   ]
  },
  {
   "cell_type": "markdown",
   "metadata": {
    "pycharm": {
     "name": "#%% md\n"
    }
   },
   "source": [
    "To get the full `QpuParameter` object we can omit `.value`. We can see that the cal state and modification date were updated."
   ]
  },
  {
   "cell_type": "code",
   "execution_count": 7,
   "metadata": {
    "collapsed": false,
    "jupyter": {
     "outputs_hidden": false
    },
    "pycharm": {
     "name": "#%%\n"
    }
   },
   "outputs": [
    {
     "data": {
      "text/plain": [
       "QpuParameter(value=5360000000.0, last updated: 05/30/2021 09:24:35, calibration state: COARSE)"
      ]
     },
     "execution_count": 7,
     "metadata": {},
     "output_type": "execute_result"
    }
   ],
   "source": [
    "db1.get('q1', 'f01')\n",
    "#db1.get('q1', 'f01').cal_state"
   ]
  },
  {
   "cell_type": "markdown",
   "metadata": {
    "pycharm": {
     "name": "#%% md\n"
    }
   },
   "source": [
    "Note that we can't modify the value by assigning to value directly - this will raise an exception."
   ]
  },
  {
   "cell_type": "markdown",
   "metadata": {},
   "source": [
    "#### Using resolved names\n",
    "\n",
    "The names we chose for the elements, namely `'q1'`, `'res1'` and `'c1_2'` have a special significance. If we follow this\n",
    "convention of naming qubit elements with the format 'q'+number, resonators with the format 'res'+number\n",
    "and couplers with the format 'c'+number1+'_'+number2, as shown above, this allows us to get and set values in a more\n",
    "convenient way:"
   ]
  },
  {
   "cell_type": "code",
   "execution_count": 8,
   "metadata": {
    "collapsed": false,
    "jupyter": {
     "outputs_hidden": false
    },
    "pycharm": {
     "name": "#%%\n"
    }
   },
   "outputs": [
    {
     "name": "stdout",
     "output_type": "stream",
     "text": [
      "5360000000.0\n",
      "7100000000.0\n",
      "400000000.0\n",
      "400000000.0\n"
     ]
    }
   ],
   "source": [
    "print(db1.q(1).f01.value)\n",
    "print(db1.res(1).f_r.value)\n",
    "print(db1.coupler(1, 2).f_r.value)\n",
    "print(db1.coupler(2, 1).f_r.value)"
   ]
  },
  {
   "cell_type": "markdown",
   "metadata": {
    "pycharm": {
     "name": "#%% md\n"
    }
   },
   "source": [
    "while this method basically syntactic sugar, it allows us to conveniently address elements by indices, which is useful when\n",
    "working with multiple qubit systems, and especially with couplers. We can also set values using this resolved addressing method:"
   ]
  },
  {
   "cell_type": "code",
   "execution_count": 9,
   "metadata": {
    "collapsed": false,
    "jupyter": {
     "outputs_hidden": false
    },
    "pycharm": {
     "name": "#%%\n"
    }
   },
   "outputs": [
    {
     "data": {
      "text/plain": [
       "QpuParameter(value=5400000000.0, last updated: 05/30/2021 09:24:45, calibration state: COARSE)"
      ]
     },
     "execution_count": 9,
     "metadata": {},
     "output_type": "execute_result"
    }
   ],
   "source": [
    "db1.update_q(1, 'f01', 5.4e9)\n",
    "db1.q(1).f01"
   ]
  },
  {
   "cell_type": "markdown",
   "metadata": {
    "pycharm": {
     "name": "#%% md\n"
    }
   },
   "source": [
    "Note: This default mapping between integer indices and strings can be modified by subclassing the\n",
    "`Resolver` class found under `entropylab_qpudb._resolver.py`.\n",
    "\n",
    "### Committing (saving to persistent storage) and viewing history\n",
    "\n",
    "Everything we've done so far did not modify the persistent storage. In order to do this, we need to *commit* the changes we made.\n",
    "This allows us to control at which stages we want to make aggregated changes to the database.\n",
    "\n",
    "Let's see how this is done. We need to call `commit`, and specify an optional commit message:"
   ]
  },
  {
   "cell_type": "code",
   "execution_count": 12,
   "metadata": {
    "collapsed": false,
    "jupyter": {
     "outputs_hidden": false
    },
    "pycharm": {
     "name": "#%%\n"
    }
   },
   "outputs": [
    {
     "name": "stdout",
     "output_type": "stream",
     "text": [
      "commiting qpu database db1 with commit <timestamp: 05/30/2021 06:26:20, message: a test commit> at index 1\n"
     ]
    }
   ],
   "source": [
    "db1.update_q(1, 'f01', 6.e9)\n",
    "db1.commit('a test commit')\n"
   ]
  },
  {
   "cell_type": "markdown",
   "metadata": {
    "pycharm": {
     "name": "#%% md\n"
    }
   },
   "source": [
    "Now the actual file was changed. To see this, we need to close the db. We can then delete db1,\n",
    "and when re-opening the DB we'll see f01 of q1 has the modified value."
   ]
  },
  {
   "cell_type": "code",
   "execution_count": 26,
   "metadata": {
    "collapsed": false,
    "jupyter": {
     "outputs_hidden": false
    },
    "pycharm": {
     "name": "#%%\n"
    }
   },
   "outputs": [
    {
     "name": "stdout",
     "output_type": "stream",
     "text": [
      "closing qpu database db1\n",
      "closing qpu database db1\n",
      "opening qpu database db1 from commit <timestamp: 05/27/2021 06:44:34, message: a test commit> at index 1\n"
     ]
    },
    {
     "data": {
      "text/plain": [
       "QpuParameter(value=6000000000.0, last updated: 05/27/2021 09:44:34, calibration state: COARSE)"
      ]
     },
     "execution_count": 11,
     "metadata": {},
     "output_type": "execute_result"
    },
    {
     "name": "stdout",
     "output_type": "stream",
     "text": [
      "closing qpu database db1\n",
      "closing qpu database db1\n",
      "opening qpu database db1 from commit <timestamp: 05/27/2021 06:44:34, message: a test commit> at index 1\n"
     ]
    },
    {
     "data": {
      "text/plain": [
       "QpuParameter(value=6000000000.0, last updated: 05/27/2021 09:44:34, calibration state: COARSE)"
      ]
     },
     "execution_count": 26,
     "metadata": {},
     "output_type": "execute_result"
    }
   ],
   "source": [
    "db1.close()\n",
    "del db1\n",
    "db1 = QpuDatabaseConnection('db1')\n",
    "db1.q(1).f01"
   ]
  },
  {
   "cell_type": "markdown",
   "metadata": {
    "pycharm": {
     "name": "#%% md\n"
    }
   },
   "source": [
    "Note that the commit was saved with an index. This index can be later used to revert to a [previous state](#reverting-to-a-previous-state).\n",
    "\n",
    "To view a history of all the commits, we call `get_history`.\n",
    "\n",
    "Note that the timestamps of the commits are in UTC time."
   ]
  },
  {
   "cell_type": "code",
   "execution_count": 13,
   "metadata": {
    "collapsed": false,
    "jupyter": {
     "outputs_hidden": false
    },
    "pycharm": {
     "name": "#%%\n"
    }
   },
   "outputs": [
    {
     "data": {
      "text/html": [
       "<div>\n",
       "<style scoped>\n",
       "    .dataframe tbody tr th:only-of-type {\n",
       "        vertical-align: middle;\n",
       "    }\n",
       "\n",
       "    .dataframe tbody tr th {\n",
       "        vertical-align: top;\n",
       "    }\n",
       "\n",
       "    .dataframe thead th {\n",
       "        text-align: right;\n",
       "    }\n",
       "</style>\n",
       "<table border=\"1\" class=\"dataframe\">\n",
       "  <thead>\n",
       "    <tr style=\"text-align: right;\">\n",
       "      <th></th>\n",
       "      <th>timestamp</th>\n",
       "      <th>message</th>\n",
       "    </tr>\n",
       "  </thead>\n",
       "  <tbody>\n",
       "    <tr>\n",
       "      <th>0</th>\n",
       "      <td>2021-05-30 06:24:19.796403</td>\n",
       "      <td>initial commit</td>\n",
       "    </tr>\n",
       "    <tr>\n",
       "      <th>1</th>\n",
       "      <td>2021-05-30 06:26:20.205781</td>\n",
       "      <td>a test commit</td>\n",
       "    </tr>\n",
       "  </tbody>\n",
       "</table>\n",
       "</div>"
      ],
      "text/plain": [
       "                   timestamp         message\n",
       "0 2021-05-30 06:24:19.796403  initial commit\n",
       "1 2021-05-30 06:26:20.205781   a test commit"
      ]
     },
     "execution_count": 13,
     "metadata": {},
     "output_type": "execute_result"
    }
   ],
   "source": [
    "db1.get_history()"
   ]
  },
  {
   "cell_type": "markdown",
   "metadata": {},
   "source": [
    "### Adding attributes and elements\n",
    "\n",
    "In many cases you realize while calibrating your system that you want to add attributes that did not exist in the initial\n",
    "dictionary, or even new elements. This is easy using the `add_element` and `add_attribute` methods.\n",
    "Let's see an example for `add_attribute`:"
   ]
  },
  {
   "cell_type": "code",
   "execution_count": 14,
   "metadata": {
    "collapsed": false,
    "jupyter": {
     "outputs_hidden": false
    },
    "pycharm": {
     "name": "#%%\n"
    }
   },
   "outputs": [
    {
     "name": "stdout",
     "output_type": "stream",
     "text": [
      "QpuParameter(None)\n",
      "QpuParameter(value=-300000000.0, last updated: 05/30/2021 09:26:25, calibration state: COARSE)\n"
     ]
    }
   ],
   "source": [
    "db1.add_attribute('q1', 'anharmonicity')\n",
    "\n",
    "print(db1.q(1).anharmonicity)\n",
    "\n",
    "db1.update_q(1, 'anharmonicity', -300e6, new_cal_state=CalState.COARSE)\n",
    "\n",
    "print(db1.q(1).anharmonicity)\n"
   ]
  },
  {
   "cell_type": "markdown",
   "metadata": {
    "pycharm": {
     "name": "#%% md\n"
    }
   },
   "source": [
    "### Reverting to a previous state\n",
    "\n",
    "Many times when we work on bringing up a QPU, we reach a point where everything is calibrated properly and our measurements\n",
    "and calibrations give good results. We want to be able to make additional changes, but to possibly revert to the good state\n",
    "if things go wrong. We can do this using `restore_from_history`. We simply need to provide it with the history\n",
    "index to which we want to return:"
   ]
  },
  {
   "cell_type": "code",
   "execution_count": 15,
   "metadata": {
    "collapsed": false,
    "jupyter": {
     "outputs_hidden": false
    },
    "pycharm": {
     "name": "#%%\n"
    }
   },
   "outputs": [
    {
     "name": "stdout",
     "output_type": "stream",
     "text": [
      "opening qpu database db1 from commit <timestamp: 05/30/2021 06:24:19, message: initial commit> at index 0\n",
      "QpuParameter(value=5650000000.0, last updated: 05/30/2021 09:24:19, calibration state: UNCAL)\n"
     ]
    }
   ],
   "source": [
    "db1.restore_from_history(0)\n",
    "print(db1.q(1).f01)\n",
    "assert db1.q(1).f01.value == initial_dict['q1']['f01']\n"
   ]
  },
  {
   "cell_type": "markdown",
   "metadata": {
    "pycharm": {
     "name": "#%% md\n"
    }
   },
   "source": [
    "Calling this method will replace the current working DB with the DB that was stored in the commit with the index\n",
    "supplied to `restore_from_history`. The new values will not be committed. It is possible to modify the values and\n",
    "commit them as usual.\n",
    "\n",
    "## Next steps\n",
    "\n",
    "While the QPU DB is a standalone tool, it is designed with QUA calibration node framework in mind.\n",
    "In the notebook called `2_qubit_graph_calibration.ipynb` we explore how the QUA calibration nodes framework can be used\n",
    "to generate calibration graphs.\n",
    "\n",
    "## Remove DB files\n",
    "\n",
    "To remove the DB files created in your workspace for the purpose of this demonstration, first close the db connection:"
   ]
  },
  {
   "cell_type": "code",
   "execution_count": 19,
   "metadata": {},
   "outputs": [
    {
     "name": "stdout",
     "output_type": "stream",
     "text": [
      "closing qpu database db1\n"
     ]
    }
   ],
   "source": [
    "db1.close()"
   ]
  },
  {
   "cell_type": "markdown",
   "metadata": {},
   "source": [
    "then run this cell:"
   ]
  },
  {
   "cell_type": "code",
   "execution_count": 20,
   "metadata": {
    "collapsed": false,
    "jupyter": {
     "outputs_hidden": false
    },
    "pycharm": {
     "name": "#%%\n"
    }
   },
   "outputs": [],
   "source": [
    "from glob import glob\n",
    "import os\n",
    "for fl in glob(\"db1*\"):\n",
    "    os.remove(fl)"
   ]
  }
 ],
 "metadata": {
  "kernelspec": {
   "display_name": "Entropy",
   "language": "python",
   "name": "entropy"
  },
  "language_info": {
   "codemirror_mode": {
    "name": "ipython",
    "version": 3
   },
   "file_extension": ".py",
   "mimetype": "text/x-python",
   "name": "python",
   "nbconvert_exporter": "python",
   "pygments_lexer": "ipython3",
   "version": "3.8.8"
  }
 },
 "nbformat": 4,
 "nbformat_minor": 4
}
