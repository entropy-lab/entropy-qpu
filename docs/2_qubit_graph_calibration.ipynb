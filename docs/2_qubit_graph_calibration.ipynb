{
 "cells": [
  {
   "cell_type": "markdown",
   "metadata": {
    "collapsed": true,
    "pycharm": {
     "name": "#%% md\n"
    }
   },
   "source": [
    "# Tutorial: QUA calibration nodes on a graph\n",
    "\n",
    "This tutorial explains, with a simple toy example, how to run calibrations on a graph using the *QUA Calibration node*\n",
    "framework. It is based on the code in [hello QUA](https://github.com/qua-platform/qua-libs/tree/main/examples/basics/hello-qua)\n",
    "in the [qua-libs](https://github.com/qua-platform/qua-libs) project.\n",
    "\n",
    "The basic idea of the QUA calibration nodes is to allow the quantum engineer or experimentalist to build up the\n",
    "quantum machine config required to run an accurate and updated QUA program in an iterative way, and to break it down\n",
    "to a manageable series of small and self-contained steps, each within a `QuaCalNode`.\n",
    "\n",
    "## Prerequisites and assumptions\n",
    "\n",
    "This tutorial assumes a working knowledge of QUA (see [qua-libs](https://github.com/qua-platform/qua-libs))\n",
    "and familiarity with the QPU DB\n",
    "(see [section 1](https://github.com/entropy-lab/entropy-qpu/blob/main/docs/qpu_db.ipynb) of the tutorial).\n",
    "\n",
    "## QUA Calibration nodes\n",
    "\n",
    "todo: insert diagram explaining the idea"
   ]
  },
  {
   "cell_type": "markdown",
   "source": [
    "## initializing a QPU DB and an entropy DB\n",
    "\n",
    "The following code, similar to [section 1](https://github.com/entropy-lab/entropy-qpu/blob/main/docs/qpu_db.ipynb)\n",
    "of the tutorial, creates a QPU DB. It also creates an entropy DB and registers the QPU DB as a resource."
   ],
   "metadata": {
    "collapsed": false,
    "pycharm": {
     "name": "#%% md\n"
    }
   }
  },
  {
   "cell_type": "code",
   "execution_count": 7,
   "outputs": [
    {
     "name": "stdout",
     "output_type": "stream",
     "text": [
      "The autoreload extension is already loaded. To reload it, use:\n",
      "  %reload_ext autoreload\n"
     ]
    }
   ],
   "source": [
    "%load_ext autoreload\n",
    "%autoreload 2\n",
    "from entropylab_qpudb import create_new_qpu_database, CalState, QpuDatabaseConnection\n",
    "from entropylab.instruments.lab_topology import LabResources, ExperimentResources\n",
    "from entropylab.results_backend.sqlalchemy.db import SqlAlchemyDB\n",
    "\n",
    "initial_dict = {\n",
    "    'q1': {\n",
    "        'f01': 5.65e9,  # an initial guess for our transition frequency\n",
    "        'pi_pulse_amp': 0.6  # an initial guess for a pi-pulse amplitude\n",
    "    },\n",
    "}\n",
    "create_new_qpu_database('db1', initial_dict, force_create=True)"
   ],
   "metadata": {
    "collapsed": false,
    "pycharm": {
     "name": "#%%\n"
    }
   }
  },
  {
   "cell_type": "markdown",
   "source": [
    "in the following lines we register the resource:"
   ],
   "metadata": {
    "collapsed": false,
    "pycharm": {
     "name": "#%% md\n"
    }
   }
  },
  {
   "cell_type": "code",
   "execution_count": 8,
   "outputs": [],
   "source": [
    "entropydb = SqlAlchemyDB('entropy_db.db')\n",
    "lab_resources = LabResources(entropydb)\n",
    "lab_resources.register_resource_if_not_exist(\n",
    "    'qpu_db', QpuDatabaseConnection, ['db1']\n",
    ")"
   ],
   "metadata": {
    "collapsed": false,
    "pycharm": {
     "name": "#%%\n"
    }
   }
  },
  {
   "cell_type": "markdown",
   "source": [
    "Now we have the databases ready to go and to be used.\n",
    "\n",
    "## creating the root node"
   ],
   "metadata": {
    "collapsed": false,
    "pycharm": {
     "name": "#%% md\n"
    }
   }
  },
  {
   "cell_type": "code",
   "execution_count": 9,
   "outputs": [],
   "source": [
    "from entropylab import EntropyContext, pynode\n",
    "from qm.qua import *\n",
    "\n",
    "from entropylab_qpudb import QuaConfig\n",
    "\n",
    "\n",
    "@pynode(\"root\", output_vars={\"config\"})\n",
    "def root(context: EntropyContext):\n",
    "    f_lo_1 = 5.5e9  # this is a parameter that we control and so we don't place it in the QPU DB\n",
    "    return {\"config\": QuaConfig({\n",
    "        \"version\": 1,\n",
    "        \"controllers\": {\n",
    "            \"con1\": {\n",
    "                \"type\": \"opx1\",\n",
    "                \"analog_outputs\": {\n",
    "                    1: {\"offset\": +0.0},\n",
    "                },\n",
    "            }\n",
    "        },\n",
    "        \"elements\": {\n",
    "            \"q1\": {\n",
    "                \"singleInput\": {\"port\": (\"con1\", 1)},\n",
    "                \"intermediate_frequency\": context.get_resource('qpu_db').q(1).f01.value - f_lo_1,\n",
    "                \"operations\": {\n",
    "                    \"playOp\": \"constPulse\",\n",
    "                },\n",
    "            },\n",
    "        }\n",
    "    })}"
   ],
   "metadata": {
    "collapsed": false,
    "pycharm": {
     "name": "#%%\n"
    }
   }
  },
  {
   "cell_type": "markdown",
   "source": [
    "# Measuring $f_{01}$ and updating the QPU DB and config\n",
    "\n",
    "todo: explain about the classes"
   ],
   "metadata": {
    "collapsed": false,
    "pycharm": {
     "name": "#%% md\n"
    }
   }
  },
  {
   "cell_type": "code",
   "execution_count": 10,
   "outputs": [],
   "source": [
    "from entropylab_qpudb import QuaCalNode\n",
    "\n",
    "class QubitSpecNode(QuaCalNode):\n",
    "    def prepare_config(self, config: QuaConfig, context: EntropyContext):\n",
    "        # todo: add a measurement pulse\n",
    "        pass\n",
    "\n",
    "    def run_program(self, config, context: EntropyContext):\n",
    "        # todo: simple program and update QPU DB\n",
    "        pass\n",
    "\n",
    "    def update_config(self, config: QuaConfig, context: EntropyContext):\n",
    "        pass\n",
    "\n",
    "class PowerRabiNode(QuaCalNode):\n",
    "\n",
    "    def prepare_config(self, config: QuaConfig, context: EntropyContext):\n",
    "        pass\n",
    "\n",
    "    def run_program(self, config, context: EntropyContext):\n",
    "        pass\n",
    "\n",
    "    def update_config(self, config: QuaConfig, context: EntropyContext):\n",
    "        pass"
   ],
   "metadata": {
    "collapsed": false,
    "pycharm": {
     "name": "#%%\n"
    }
   }
  },
  {
   "cell_type": "markdown",
   "source": [
    "## Prepare graph experiment"
   ],
   "metadata": {
    "collapsed": false,
    "pycharm": {
     "name": "#%% md\n"
    }
   }
  },
  {
   "cell_type": "code",
   "execution_count": 11,
   "outputs": [
    {
     "name": "stdout",
     "output_type": "stream",
     "text": [
      "opening qpu database db1 from commit <timestamp: 05/27/2021 09:15:23, message: initial commit> at index 0\n",
      "2021-05-27 12:15:23,719 - entropy - INFO - Running node <PyNode> root\n",
      "2021-05-27 12:15:23,723 - entropy - INFO - Running node <QubitSpecNode> QubitSpecNode\n",
      "2021-05-27 12:15:23,729 - entropy - INFO - Running node <PowerRabiNode> PowerRabiNode\n",
      "2021-05-27 12:15:23,738 - entropy - INFO - Finished entropy experiment execution successfully\n"
     ]
    },
    {
     "data": {
      "text/plain": "<entropylab.graph_experiment.GraphExperimentHandle at 0x7fba615298e0>"
     },
     "execution_count": 11,
     "metadata": {},
     "output_type": "execute_result"
    }
   ],
   "source": [
    "qubit_spec_q1 = QubitSpecNode(dependency=root)\n",
    "power_rabi_q1 = PowerRabiNode(dependency=qubit_spec_q1)\n",
    "\n",
    "from entropylab import Graph\n",
    "experiment_resources = ExperimentResources(entropydb)\n",
    "experiment_resources.import_lab_resource('qpu_db')\n",
    "calibration_experiment = Graph(experiment_resources, power_rabi_q1.ancestors())\n",
    "calibration_experiment.run()"
   ],
   "metadata": {
    "collapsed": false,
    "pycharm": {
     "name": "#%%\n"
    }
   }
  },
  {
   "cell_type": "code",
   "execution_count": 12,
   "outputs": [
    {
     "name": "stdout",
     "output_type": "stream",
     "text": [
      "closing qpu database db1\n"
     ]
    }
   ],
   "source": [
    "experiment_resources.get_resource('qpu_db').close()"
   ],
   "metadata": {
    "collapsed": false,
    "pycharm": {
     "name": "#%%\n"
    }
   }
  },
  {
   "cell_type": "code",
   "execution_count": 12,
   "outputs": [],
   "source": [],
   "metadata": {
    "collapsed": false,
    "pycharm": {
     "name": "#%%\n"
    }
   }
  }
 ],
 "metadata": {
  "kernelspec": {
   "display_name": "Python 3",
   "language": "python",
   "name": "python3"
  },
  "language_info": {
   "codemirror_mode": {
    "name": "ipython",
    "version": 2
   },
   "file_extension": ".py",
   "mimetype": "text/x-python",
   "name": "python",
   "nbconvert_exporter": "python",
   "pygments_lexer": "ipython2",
   "version": "2.7.6"
  }
 },
 "nbformat": 4,
 "nbformat_minor": 0
}