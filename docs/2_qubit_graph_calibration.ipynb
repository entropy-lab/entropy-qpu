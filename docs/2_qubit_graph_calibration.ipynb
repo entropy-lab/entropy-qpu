{
 "cells": [
  {
   "cell_type": "markdown",
   "metadata": {
    "pycharm": {
     "name": "#%% md\n"
    }
   },
   "source": [
    "# Tutorial: QUA calibration nodes on a graph\n",
    "\n",
    "## Motivation and background\n",
    "\n",
    "This tutorial explains, with a simple toy example, how to run calibrations on a graph using the *QUA Calibration node*\n",
    "framework. It is based on the code in [hello QUA](https://github.com/qua-platform/qua-libs/tree/main/examples/basics/hello-qua)\n",
    "in the [qua-libs](https://github.com/qua-platform/qua-libs) project.\n",
    "\n",
    "The basic idea of the QUA calibration nodes is to allow the quantum engineer or experimentalist to build up the\n",
    "quantum machine config required to run an accurate and updated QUA program in an iterative way and to break it down\n",
    "to a manageable series of small and self-contained steps, each within a `QuaCalNode`.\n",
    "\n",
    "The problem that `QuaCalNodes`solves is the following: in multiple qubit systems the QUA config becomes a large object\n",
    "that is full of many parameters. These include IF frequencies, waveform samples and mixer correction entries that need to\n",
    "be kept up do date and well-calibrated. Furthermore, when tuning up the system, we're often in experimentation mode\n",
    "so we need a framework that is modular and flexible. `QuaCalNodes`, together with the QPU DB, provide a way to build\n",
    "the QUA config and modify them both automatically and as well as manually when needed.\n",
    "\n",
    "## Prerequisites and assumptions\n",
    "\n",
    "This tutorial assumes a working knowledge of QUA (see [qua-libs](https://github.com/qua-platform/qua-libs))\n",
    "and familiarity with the QPU DB\n",
    "(see [section 1](https://github.com/entropy-lab/entropy-qpu/blob/main/docs/qpu_db.ipynb) of the tutorial).\n",
    "\n",
    "## QUA Calibration nodes\n",
    "\n",
    "### Basic idea\n",
    "\n",
    "![linear](linear.png)\n",
    "\n",
    "QUA cal nodes are `PyNodes` which pass the QUA config as input and output. Each QUA cal node performs a calibration\n",
    "measurement and modifies the QUA config with only the values that were calibrated in this node. If needed, the node\n",
    "can also add operations and pulses that are required to perform the calibration. This can be seen in the figure above:\n",
    "We start with a root node, which is a `PyNode` that only passes a bare-bones QUA config (QUA config v0).\n",
    "The next node, time of flight calibration, is a `QuaCalNode` that measures the time of flight to a readout resonator.\n",
    "It updates QPU DB by that value and also modifies the QUA config (becoming QUA config v1), which is passed on to the next node.\n",
    "The next node does the same, and in this manner the config is built up with fresh calibration values, which are concurrently\n",
    "stored in the QPU DB.\n",
    "\n",
    "### Anatomy of a single QUA node\n",
    "\n",
    "![anatomy](singlenode.png)\n",
    "\n",
    "Let's look more closely at a single `QuaCalNode`, here time of flight calibration. The node contains 3 methods which\n",
    "are performed sequentially when running the graph:\n",
    "\n",
    "* `prepare_config()`\n",
    "* `run()`\n",
    "* `update_config()`\n",
    "\n",
    "The first method, `prepare_config()`, is always executed and can be used to add to the config things required for the\n",
    "calibration, such as readout pulses, integration weights etc.\n",
    "\n",
    "The second method, `run()`, performs the actual QUA program and the analysis, and modifies the QPU DB accordingly.\n",
    "\n",
    "The third method, `update_config()`, takes the values from the QPU DB and updates the QUA config accordingly. For\n",
    "example, here we'd modify the `time_of_flight` field of the resonator.\n",
    "\n",
    "You may be wondering why `run()` is optional and why we don't just immediately modify TOF in the QUA config. The reason\n",
    "is that we may want to build up the config without actually running the calibration - for example if decide that TOF\n",
    "is sufficiently well calibrated and doesn't need to be re-measured. The decision whether to run a node in a graph or\n",
    "not is determined by the `run_strategy` argument of the entropy `Graph` object.\n",
    "\n",
    "### Merging configs\n",
    "\n",
    "![merge](merge.png)\n",
    "\n",
    "in many cases, a node can depend on more than one ancestor. In this case, the configs will be automatically merged,\n",
    "as seen above.\n",
    "\n",
    "NOTE: If ancestor nodes modify the same config fields, the stored value will be **undetermined**!\n",
    "Please avoid this situation.\n",
    "\n",
    "### A note on flexibility\n",
    "\n",
    "The framework of QPU DB and `QuaCalNodes` is very flexibly by design. If you want, you can add arguments\n",
    "to the class `__init__` method to define run parameters, or, for example, create the full config in the root node\n",
    "and only modify its values, thus skipping `prepare_config()` entirely.\n",
    "\n",
    "The recommended way of using QUA cal nodes, and the config, is as shown here in the tutorial but we really value any\n",
    "feedback and modification suggestions!\n"
   ]
  },
  {
   "cell_type": "markdown",
   "metadata": {
    "pycharm": {
     "name": "#%% md\n"
    }
   },
   "source": [
    "## initializing a QPU DB and an entropy DB\n",
    "\n",
    "Now that we understand the basic principle, let's look at an example.\n",
    "The following code, similar to [section 1](https://github.com/entropy-lab/entropy-qpu/blob/main/docs/qpu_db.ipynb)\n",
    "of the tutorial, creates a QPU DB. It also creates an entropy DB and registers the QPU DB as a resource."
   ]
  },
  {
   "cell_type": "code",
   "execution_count": 2,
   "metadata": {
    "collapsed": false,
    "jupyter": {
     "outputs_hidden": false
    },
    "pycharm": {
     "name": "#%%\n"
    }
   },
   "outputs": [],
   "source": [
    "# %load_ext autoreload\n",
    "# %autoreload 2\n",
    "from entropylab_qpudb import create_new_qpu_database, CalState, QpuDatabaseConnection\n",
    "from entropylab.instruments.lab_topology import LabResources, ExperimentResources\n",
    "from entropylab.results_backend.sqlalchemy.db import SqlAlchemyDB\n",
    "\n",
    "initial_dict = {\n",
    "    'res1': {\n",
    "        'TOF': 240,  # an initial guess for TOF\n",
    "        'f_res': 6e9  # an initial guess for f_res\n",
    "    },\n",
    "}\n",
    "create_new_qpu_database('db1', initial_dict, force_create=True)"
   ]
  },
  {
   "cell_type": "markdown",
   "metadata": {
    "pycharm": {
     "name": "#%% md\n"
    }
   },
   "source": [
    "in the following lines we register the resource:"
   ]
  },
  {
   "cell_type": "code",
   "execution_count": 3,
   "metadata": {
    "collapsed": false,
    "jupyter": {
     "outputs_hidden": false
    },
    "pycharm": {
     "name": "#%%\n"
    }
   },
   "outputs": [
    {
     "name": "stdout",
     "output_type": "stream",
     "text": [
      "opening qpu database db1 from commit <timestamp: 05/30/2021 06:36:00, message: initial commit> at index 0\n"
     ]
    }
   ],
   "source": [
    "entropydb = SqlAlchemyDB('entropy_db.db')\n",
    "lab_resources = LabResources(entropydb)\n",
    "lab_resources.register_resource_if_not_exist(\n",
    "    'qpu_db', QpuDatabaseConnection, ['db1']\n",
    ")"
   ]
  },
  {
   "cell_type": "markdown",
   "metadata": {
    "pycharm": {
     "name": "#%% md\n"
    }
   },
   "source": [
    "Now we have the databases ready to go and to be used.\n",
    "\n",
    "## creating the root node\n",
    "\n",
    "Below we create the root node. We do not (in this case) take values from QPU DB, but we could if we wanted to."
   ]
  },
  {
   "cell_type": "code",
   "execution_count": 4,
   "metadata": {
    "collapsed": false,
    "jupyter": {
     "outputs_hidden": false
    },
    "pycharm": {
     "name": "#%%\n"
    }
   },
   "outputs": [],
   "source": [
    "from entropylab import EntropyContext, pynode\n",
    "from qm.qua import *\n",
    "\n",
    "from entropylab_qpudb import QuaConfig\n",
    "\n",
    "\n",
    "@pynode(\"root\", output_vars={\"config\"})\n",
    "def root(context: EntropyContext):\n",
    "    return {\"config\": QuaConfig({\n",
    "        \"version\": 1,\n",
    "        \"controllers\": {\n",
    "            \"con1\": {\n",
    "                \"type\": \"opx1\",\n",
    "                \"analog_outputs\": {\n",
    "                    1: {\"offset\": +0.0},\n",
    "                },\n",
    "            }\n",
    "        },\n",
    "        \"elements\": {\n",
    "            \"res1\": {\n",
    "                \"singleInput\": {\"port\": (\"con1\", 1)},\n",
    "                \"intermediate_frequency\": 6e9, # this is just a guess, will later be modified by the cal node\n",
    "                \"operations\": {\n",
    "                    \"playOp\": \"constPulse\",\n",
    "                },\n",
    "            },\n",
    "        }\n",
    "    })}"
   ]
  },
  {
   "cell_type": "markdown",
   "metadata": {
    "pycharm": {
     "name": "#%% md\n"
    }
   },
   "source": [
    "# Measuring TOF and updating the QPU DB and config\n",
    "\n",
    "Below we see a sketch for an implementation of the two nodes we discussed above: time of flight node and res spectroscopy\n",
    "node."
   ]
  },
  {
   "cell_type": "code",
   "execution_count": 4,
   "metadata": {
    "collapsed": false,
    "jupyter": {
     "outputs_hidden": false
    },
    "pycharm": {
     "name": "#%%\n"
    }
   },
   "outputs": [],
   "source": [
    "from entropylab_qpudb import QuaCalNode\n",
    "\n",
    "class TOFNode(QuaCalNode):\n",
    "    def prepare_config(self, config: QuaConfig, context: EntropyContext):\n",
    "        # here we add a measurement pulse\n",
    "        print('adding a measurement pulse...')\n",
    "\n",
    "    def run_program(self, config, context: EntropyContext):\n",
    "        # here we write a QUA program that measures the TOF, and modify QPU DB accordingly\n",
    "        print('running QUA program and analyzing...')\n",
    "        with program() as prog:\n",
    "            # measure TOF\n",
    "            pass\n",
    "\n",
    "        # execute and get results... let's say we found that TOF is 252\n",
    "        print('updating QPU DB....')\n",
    "        context.get_resource('qpu_db').set('res1', 'TOF', 252)  # here we update the QPU DB\n",
    "        context.get_resource('qpu_db').commit('after measuring TOF')  # optionally, commit here to persistent storage\n",
    "        pass\n",
    "\n",
    "    def update_config(self, config: QuaConfig, context: EntropyContext):\n",
    "        # below we update the config from the values stored in the QPU DB\n",
    "        print('updating QUA config from QPU DB values...')\n",
    "        config['elements']['res1']['time_of_flight'] = context.get_resource('qpu_db').get('res1', 'TOF').value\n",
    "        pass\n",
    "\n",
    "class ResSpecNode(QuaCalNode):\n",
    "\n",
    "    def prepare_config(self, config: QuaConfig, context: EntropyContext):\n",
    "        print('asserting that the config has the calibrated TOF value...')\n",
    "        assert config['elements']['res1']['time_of_flight'] == 252  # this is what we expect\n",
    "        pass\n",
    "\n",
    "    def run_program(self, config, context: EntropyContext):\n",
    "        pass\n",
    "\n",
    "    def update_config(self, config: QuaConfig, context: EntropyContext):\n",
    "        pass"
   ]
  },
  {
   "cell_type": "markdown",
   "metadata": {
    "pycharm": {
     "name": "#%% md\n"
    }
   },
   "source": [
    "## Prepare graph experiment\n",
    "\n",
    "below we can see the syntax for preparing our short calibration experiment"
   ]
  },
  {
   "cell_type": "code",
   "execution_count": 5,
   "metadata": {
    "collapsed": false,
    "jupyter": {
     "outputs_hidden": false
    },
    "pycharm": {
     "name": "#%%\n"
    }
   },
   "outputs": [
    {
     "name": "stdout",
     "output_type": "stream",
     "text": [
      "opening qpu database db1 from commit <timestamp: 05/28/2021 08:18:57, message: initial commit> at index 0\n"
     ]
    }
   ],
   "source": [
    "tofnode_res1 = TOFNode(dependency=root, name='time of flight node')\n",
    "res_spec_node_res1 = ResSpecNode(dependency=tofnode_res1, name='res spec node')\n",
    "\n",
    "from entropylab import Graph\n",
    "experiment_resources = ExperimentResources(entropydb)\n",
    "experiment_resources.import_lab_resource('qpu_db')\n",
    "calibration_experiment = Graph(experiment_resources, res_spec_node_res1.ancestors())"
   ]
  },
  {
   "cell_type": "markdown",
   "metadata": {
    "pycharm": {
     "name": "#%% md\n"
    }
   },
   "source": [
    "## run the graph experiment\n",
    "\n",
    "when we run the experiment, we see in the printouts the expected results. Note that the `prepare_config()` and `update_config()` methods of `TOFNode` are called again when running `ResSpecNode`. While this is not the most efficient way to run the code, it is done for robustness reasons and will be corrected later on."
   ]
  },
  {
   "cell_type": "code",
   "execution_count": 6,
   "metadata": {
    "collapsed": false,
    "jupyter": {
     "outputs_hidden": false
    },
    "pycharm": {
     "name": "#%%\n"
    }
   },
   "outputs": [
    {
     "name": "stdout",
     "output_type": "stream",
     "text": [
      "2021-05-28 11:18:57,709 - entropy - INFO - Running node <PyNode> root\n",
      "2021-05-28 11:18:57,716 - entropy - INFO - Running node <TOFNode> time of flight node\n",
      "adding a measurement pulse...\n",
      "running QUA program and analyzing...\n",
      "updating QPU DB....\n",
      "commiting qpu database db1 with commit <timestamp: 05/28/2021 08:18:57, message: after measuring TOF> at index 1\n",
      "2021-05-28 11:18:57,724 - entropy - INFO - Running node <ResSpecNode> res spec node\n",
      "adding a measurement pulse...\n",
      "updating QUA config from QPU DB values...\n",
      "asserting that the config has the calibrated TOF value...\n",
      "2021-05-28 11:18:57,738 - entropy - INFO - Finished entropy experiment execution successfully\n"
     ]
    },
    {
     "data": {
      "text/plain": [
       "<entropylab.graph_experiment.GraphExperimentHandle at 0x7fa0e17c5940>"
      ]
     },
     "execution_count": 6,
     "metadata": {},
     "output_type": "execute_result"
    }
   ],
   "source": [
    "calibration_experiment.run()"
   ]
  },
  {
   "cell_type": "markdown",
   "metadata": {
    "pycharm": {
     "name": "#%% md\n"
    }
   },
   "source": [
    "## closing the QPU DB\n",
    "\n",
    "if you get a \"can't lock\" error on the DB, run this cell to close it and try again."
   ]
  },
  {
   "cell_type": "code",
   "execution_count": 7,
   "metadata": {
    "collapsed": false,
    "jupyter": {
     "outputs_hidden": false
    },
    "pycharm": {
     "name": "#%%\n"
    }
   },
   "outputs": [
    {
     "name": "stdout",
     "output_type": "stream",
     "text": [
      "closing qpu database db1\n"
     ]
    }
   ],
   "source": [
    "experiment_resources.get_resource('qpu_db').close()"
   ]
  },
  {
   "cell_type": "markdown",
   "metadata": {
    "pycharm": {
     "name": "#%% md\n"
    }
   },
   "source": [
    "## Remove DB files\n",
    "\n",
    "To remove the DB files created in your workspace for the purpose of this demonstration, run this cell:"
   ]
  },
  {
   "cell_type": "code",
   "execution_count": 8,
   "metadata": {
    "collapsed": false,
    "jupyter": {
     "outputs_hidden": false
    },
    "pycharm": {
     "name": "#%%\n"
    }
   },
   "outputs": [],
   "source": [
    "from glob import glob\n",
    "import os\n",
    "for fl in glob(\"db1*\"):\n",
    "    os.remove(fl)"
   ]
  }
 ],
 "metadata": {
  "kernelspec": {
   "display_name": "Entropy",
   "language": "python",
   "name": "entropy"
  },
  "language_info": {
   "codemirror_mode": {
    "name": "ipython",
    "version": 3
   },
   "file_extension": ".py",
   "mimetype": "text/x-python",
   "name": "python",
   "nbconvert_exporter": "python",
   "pygments_lexer": "ipython3",
   "version": "3.8.8"
  },
  "toc-autonumbering": false,
  "toc-showcode": false,
  "toc-showmarkdowntxt": false
 },
 "nbformat": 4,
 "nbformat_minor": 4
}
